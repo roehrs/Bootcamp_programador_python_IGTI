{
  "nbformat": 4,
  "nbformat_minor": 0,
  "metadata": {
    "colab": {
      "name": "Algoritmo_AD.ipynb",
      "provenance": [],
      "authorship_tag": "ABX9TyP/+WP2NnAEV2NYlu4Y3fnU",
      "include_colab_link": true
    },
    "kernelspec": {
      "name": "python3",
      "display_name": "Python 3"
    },
    "language_info": {
      "name": "python"
    }
  },
  "cells": [
    {
      "cell_type": "markdown",
      "metadata": {
        "id": "view-in-github",
        "colab_type": "text"
      },
      "source": [
        "<a href=\"https://colab.research.google.com/github/roehrs/Bootcamp_programador_python_IGTI/blob/main/Algoritmo_AD.ipynb\" target=\"_parent\"><img src=\"https://colab.research.google.com/assets/colab-badge.svg\" alt=\"Open In Colab\"/></a>"
      ]
    },
    {
      "cell_type": "code",
      "metadata": {
        "id": "DTSAWzGehhav"
      },
      "source": [
        "import pandas as pd\n",
        "from sklearn.preprocessing import MinMaxScaler # função para normalização do dataset\n",
        "from sklearn.model_selection import train_test_split   # função que realiza a divisão do dataset\n",
        "from sklearn.tree import DecisionTreeClassifier # importa o classificador árvore de decisão\n",
        "from sklearn import metrics #importa as métricas para avaliação\n",
        "from sklearn.metrics import classification_report, confusion_matrix #importação para construção de matrix \n",
        "from mlxtend.plotting import plot_confusion_matrix # importação para plot de matrix confusão\n",
        "import matplotlib.pyplot as plt"
      ],
      "execution_count": null,
      "outputs": []
    },
    {
      "cell_type": "code",
      "metadata": {
        "id": "eYU1WbSnjDsg"
      },
      "source": [
        "#importando csv \n",
        "df_diabetes = pd.read_csv('datasets_diabetes.csv')"
      ],
      "execution_count": null,
      "outputs": []
    },
    {
      "cell_type": "code",
      "metadata": {
        "id": "bE294HeAjFeH"
      },
      "source": [
        "#transforma os dados em array\n",
        "entradas = df_diabetes.iloc[:, :-1].values  #dados de entrada\n",
        "saida = df_diabetes.iloc[:, 8].values  # saídas ou target"
      ],
      "execution_count": null,
      "outputs": []
    },
    {
      "cell_type": "code",
      "metadata": {
        "id": "IaW6Xh1ojG9M"
      },
      "source": [
        "# realiza o processo de normalização dos dados\n",
        "normaliza = MinMaxScaler() #objeto para a normalização\n",
        "entradas_normalizadas=normaliza.fit_transform(entradas)"
      ],
      "execution_count": null,
      "outputs": []
    },
    {
      "cell_type": "code",
      "metadata": {
        "id": "ZUDAU6xgjIsG"
      },
      "source": [
        "# realiza a visisão dos dados entre treinamento e teste \n",
        "X_train, X_test, y_train, y_test = train_test_split(entradas_normalizadas, saida, \n",
        "                                                    test_size=0.30,random_state=42)"
      ],
      "execution_count": null,
      "outputs": []
    },
    {
      "cell_type": "code",
      "metadata": {
        "id": "0qsphyAAh8ja"
      },
      "source": [
        "# Cria o objeto de classificação através do \n",
        "clf =  DecisionTreeClassifier(random_state=1)\n",
        "\n",
        "# Realiza o treinamento do classificador\n",
        "clf = clf.fit(X_train,y_train)\n",
        "\n",
        "#Realiza a previsão de classificaçao \n",
        "y_pred = clf.predict(X_test)"
      ],
      "execution_count": null,
      "outputs": []
    },
    {
      "cell_type": "code",
      "metadata": {
        "id": "138l_47GxEdn",
        "colab": {
          "base_uri": "https://localhost:8080/"
        },
        "outputId": "a625855d-93e7-45c9-da70-3ce940b3fdde"
      },
      "source": [
        "#constroi a matriz de confusão para comparar o modelo criado\n",
        "print(confusion_matrix(y_test, y_pred))\n",
        "print(classification_report(y_test, y_pred))"
      ],
      "execution_count": null,
      "outputs": [
        {
          "output_type": "stream",
          "text": [
            "[[106  45]\n",
            " [ 25  55]]\n",
            "              precision    recall  f1-score   support\n",
            "\n",
            "           0       0.81      0.70      0.75       151\n",
            "           1       0.55      0.69      0.61        80\n",
            "\n",
            "    accuracy                           0.70       231\n",
            "   macro avg       0.68      0.69      0.68       231\n",
            "weighted avg       0.72      0.70      0.70       231\n",
            "\n"
          ],
          "name": "stdout"
        }
      ]
    },
    {
      "cell_type": "code",
      "metadata": {
        "colab": {
          "base_uri": "https://localhost:8080/",
          "height": 279
        },
        "id": "rd3liKRwjRE1",
        "outputId": "c58e0461-da95-439f-c5be-a79cb04ffc07"
      },
      "source": [
        "#Avaliando o modelo \n",
        "\n",
        "#realiza o plot da matriz de confusão\n",
        "matriz_confusao = confusion_matrix(y_test, y_pred)\n",
        "\n",
        "\n",
        "fig, ax = plot_confusion_matrix(conf_mat=matriz_confusao)\n",
        "plt.show()"
      ],
      "execution_count": null,
      "outputs": [
        {
          "output_type": "display_data",
          "data": {
            "image/png": "[encoded data removed]",
            "text/plain": [
              "<Figure size 432x288 with 1 Axes>"
            ]
          },
          "metadata": {
            "tags": [],
            "needs_background": "light"
          }
        }
      ]
    }
  ]
}