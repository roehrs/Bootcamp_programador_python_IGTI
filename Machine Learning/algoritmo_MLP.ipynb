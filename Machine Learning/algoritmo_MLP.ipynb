{
  "nbformat": 4,
  "nbformat_minor": 0,
  "metadata": {
    "colab": {
      "name": "algoritmo_MLP.ipynb",
      "provenance": [],
      "authorship_tag": "ABX9TyMq17C5LPkShV45MsZwiHVc",
      "include_colab_link": true
    },
    "kernelspec": {
      "name": "python3",
      "display_name": "Python 3"
    },
    "language_info": {
      "name": "python"
    }
  },
  "cells": [
    {
      "cell_type": "markdown",
      "metadata": {
        "id": "view-in-github",
        "colab_type": "text"
      },
      "source": [
        "<a href=\"https://colab.research.google.com/github/roehrs/Bootcamp_programador_python_IGTI/blob/main/algoritmo_MLP.ipynb\" target=\"_parent\"><img src=\"https://colab.research.google.com/assets/colab-badge.svg\" alt=\"Open In Colab\"/></a>"
      ]
    },
    {
      "cell_type": "code",
      "metadata": {
        "id": "kWEAvIcls1gw"
      },
      "source": [
        "#definição da biblioteca\n",
        "from sklearn.neural_network import MLPClassifier\n",
        "import pandas as pd\n",
        "from sklearn.preprocessing import MinMaxScaler # função para normalização do dataset\n",
        "from sklearn.model_selection import train_test_split   # função que realiza a divisão do dataset\n",
        "from sklearn.metrics import classification_report, confusion_matrix #importação para construção de matrix \n",
        "from mlxtend.plotting import plot_confusion_matrix # importação para plot de matrix confusão\n",
        "import matplotlib.pyplot as plt"
      ],
      "execution_count": null,
      "outputs": []
    },
    {
      "cell_type": "code",
      "metadata": {
        "id": "lo3eXrYoE01h"
      },
      "source": [
        "#importando csv \n",
        "df_diabetes = pd.read_csv('datasets_diabetes.csv')"
      ],
      "execution_count": null,
      "outputs": []
    },
    {
      "cell_type": "code",
      "metadata": {
        "id": "9ijr2RDiE2Oa"
      },
      "source": [
        "#transforma os dados em array\n",
        "entradas = df_diabetes.iloc[:, :-1].values  #dados de entrada\n",
        "saida = df_diabetes.iloc[:, 8].values  # saídas ou target"
      ],
      "execution_count": null,
      "outputs": []
    },
    {
      "cell_type": "code",
      "metadata": {
        "id": "XR9KsTESE3rr"
      },
      "source": [
        "# realiza o processo de normalização dos dados\n",
        "normaliza = MinMaxScaler() #objeto para a normalização\n",
        "entradas_normalizadas=normaliza.fit_transform(entradas)"
      ],
      "execution_count": null,
      "outputs": []
    },
    {
      "cell_type": "code",
      "metadata": {
        "id": "6VGeTcZ1E5M0"
      },
      "source": [
        "# realiza a visisão dos dados entre treinamento e teste \n",
        "X_train, X_test, y_train, y_test = train_test_split(entradas_normalizadas, saida, \n",
        "                                                    test_size=0.30,random_state=42)"
      ],
      "execution_count": null,
      "outputs": []
    },
    {
      "cell_type": "code",
      "metadata": {
        "id": "WfRMDpbWFA3d"
      },
      "source": [
        "#define a configuração da rede\n",
        "clf = MLPClassifier(solver='lbfgs', alpha=1e-5, hidden_layer_sizes=(5,5), random_state=1)"
      ],
      "execution_count": null,
      "outputs": []
    },
    {
      "cell_type": "code",
      "metadata": {
        "colab": {
          "base_uri": "https://localhost:8080/"
        },
        "id": "BgwTvHToGe-o",
        "outputId": "1723c08c-64b9-4a31-f226-cef3e64f7238"
      },
      "source": [
        "#realiza o fit do modelo\n",
        "clf.fit(X_train,y_train)"
      ],
      "execution_count": null,
      "outputs": [
        {
          "output_type": "execute_result",
          "data": {
            "text/plain": [
              "MLPClassifier(activation='relu', alpha=1e-05, batch_size='auto', beta_1=0.9,\n",
              "              beta_2=0.999, early_stopping=False, epsilon=1e-08,\n",
              "              hidden_layer_sizes=(5, 5), learning_rate='constant',\n",
              "              learning_rate_init=0.001, max_fun=15000, max_iter=200,\n",
              "              momentum=0.9, n_iter_no_change=10, nesterovs_momentum=True,\n",
              "              power_t=0.5, random_state=1, shuffle=True, solver='lbfgs',\n",
              "              tol=0.0001, validation_fraction=0.1, verbose=False,\n",
              "              warm_start=False)"
            ]
          },
          "metadata": {
            "tags": []
          },
          "execution_count": 7
        }
      ]
    },
    {
      "cell_type": "code",
      "metadata": {
        "id": "yxOkeWApGgNH"
      },
      "source": [
        "#realiza a previsão\n",
        "y_pred=clf.predict(X_test)"
      ],
      "execution_count": null,
      "outputs": []
    },
    {
      "cell_type": "code",
      "metadata": {
        "id": "KXFbkl1hxcKo",
        "colab": {
          "base_uri": "https://localhost:8080/"
        },
        "outputId": "7971032f-4839-4dc7-b956-5e11d1e4e248"
      },
      "source": [
        "#constroi a matriz de confusão para comparar o modelo criado\n",
        "print(confusion_matrix(y_test, y_pred))\n",
        "print(classification_report(y_test, y_pred))"
      ],
      "execution_count": null,
      "outputs": [
        {
          "output_type": "stream",
          "text": [
            "[[118  33]\n",
            " [ 29  51]]\n",
            "              precision    recall  f1-score   support\n",
            "\n",
            "           0       0.80      0.78      0.79       151\n",
            "           1       0.61      0.64      0.62        80\n",
            "\n",
            "    accuracy                           0.73       231\n",
            "   macro avg       0.70      0.71      0.71       231\n",
            "weighted avg       0.73      0.73      0.73       231\n",
            "\n"
          ],
          "name": "stdout"
        }
      ]
    },
    {
      "cell_type": "code",
      "metadata": {
        "colab": {
          "base_uri": "https://localhost:8080/",
          "height": 279
        },
        "id": "ao7q2vPlGhcq",
        "outputId": "bc69a2cf-56b4-4a04-bcf4-082c7438a480"
      },
      "source": [
        "#Avaliando o modelo \n",
        "\n",
        "#realiza o plot da matriz de confusão\n",
        "matriz_confusao = confusion_matrix(y_test, y_pred)\n",
        "from mlxtend.plotting import plot_confusion_matrix\n",
        "\n",
        "fig, ax = plot_confusion_matrix(conf_mat=matriz_confusao)\n",
        "plt.show()"
      ],
      "execution_count": null,
      "outputs": [
        {
          "output_type": "display_data",
          "data": {
            "image/png": "[encoded data removed]",
            "text/plain": [
              "<Figure size 432x288 with 1 Axes>"
            ]
          },
          "metadata": {
            "tags": [],
            "needs_background": "light"
          }
        }
      ]
    }
  ]
}