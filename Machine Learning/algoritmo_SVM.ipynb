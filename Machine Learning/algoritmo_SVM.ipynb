{
  "nbformat": 4,
  "nbformat_minor": 0,
  "metadata": {
    "colab": {
      "name": "algoritmo_SVM.ipynb",
      "provenance": [],
      "authorship_tag": "ABX9TyNlmwcNGx8UEwOxVWW7BSuy",
      "include_colab_link": true
    },
    "kernelspec": {
      "name": "python3",
      "display_name": "Python 3"
    },
    "language_info": {
      "name": "python"
    }
  },
  "cells": [
    {
      "cell_type": "markdown",
      "metadata": {
        "id": "view-in-github",
        "colab_type": "text"
      },
      "source": [
        "<a href=\"https://colab.research.google.com/github/roehrs/Bootcamp_programador_python_IGTI/blob/main/algoritmo_SVM.ipynb\" target=\"_parent\"><img src=\"https://colab.research.google.com/assets/colab-badge.svg\" alt=\"Open In Colab\"/></a>"
      ]
    },
    {
      "cell_type": "code",
      "metadata": {
        "id": "4UTMYNI1qF5P"
      },
      "source": [
        "#biblioteca necessária para a construção do SVM\n",
        "from sklearn.svm import SVC\n",
        "import pandas as pd\n",
        "from sklearn.preprocessing import MinMaxScaler # função para normalização do dataset\n",
        "from sklearn.model_selection import train_test_split   # função que realiza a divisão do dataset\n",
        "from sklearn.metrics import classification_report, confusion_matrix #importação para construção de matrix \n",
        "from mlxtend.plotting import plot_confusion_matrix # importação para plot de matrix confusão\n",
        "import matplotlib.pyplot as plt"
      ],
      "execution_count": null,
      "outputs": []
    },
    {
      "cell_type": "code",
      "metadata": {
        "id": "yNTMHYTDrtMf"
      },
      "source": [
        "#importando csv \n",
        "df_diabetes = pd.read_csv('datasets_diabetes.csv')"
      ],
      "execution_count": null,
      "outputs": []
    },
    {
      "cell_type": "code",
      "metadata": {
        "id": "Buk5JN3XsK3q"
      },
      "source": [
        "#transforma os dados em array\n",
        "entradas = df_diabetes.iloc[:, :-1].values  #dados de entrada\n",
        "saida = df_diabetes.iloc[:, 8].values  # saídas ou target"
      ],
      "execution_count": null,
      "outputs": []
    },
    {
      "cell_type": "code",
      "metadata": {
        "id": "uJ1d2RbpsOFb"
      },
      "source": [
        "# realiza o processo de normalização dos dados\n",
        "normaliza = MinMaxScaler() #objeto para a normalização\n",
        "entradas_normalizadas=normaliza.fit_transform(entradas)"
      ],
      "execution_count": null,
      "outputs": []
    },
    {
      "cell_type": "code",
      "metadata": {
        "id": "ahv_sb5KsPon"
      },
      "source": [
        "# realiza a visisão dos dados entre treinamento e teste \n",
        "X_train, X_test, y_train, y_test = train_test_split(entradas_normalizadas, saida, \n",
        "                                                    test_size=0.30,random_state=42)"
      ],
      "execution_count": null,
      "outputs": []
    },
    {
      "cell_type": "code",
      "metadata": {
        "id": "_LIr3VISqy2a"
      },
      "source": [
        "#cria o objeto SVM\n",
        "clf = SVC(gamma='auto',random_state=1)"
      ],
      "execution_count": null,
      "outputs": []
    },
    {
      "cell_type": "code",
      "metadata": {
        "colab": {
          "base_uri": "https://localhost:8080/"
        },
        "id": "eG5QiRNUq1Ep",
        "outputId": "830fee25-295a-4c05-a880-aa97c0cbff0a"
      },
      "source": [
        "#realiza a classificação via SVM\n",
        "clf.fit(X_train,y_train)"
      ],
      "execution_count": null,
      "outputs": [
        {
          "output_type": "execute_result",
          "data": {
            "text/plain": [
              "SVC(C=1.0, break_ties=False, cache_size=200, class_weight=None, coef0=0.0,\n",
              "    decision_function_shape='ovr', degree=3, gamma='auto', kernel='rbf',\n",
              "    max_iter=-1, probability=False, random_state=1, shrinking=True, tol=0.001,\n",
              "    verbose=False)"
            ]
          },
          "metadata": {
            "tags": []
          },
          "execution_count": 7
        }
      ]
    },
    {
      "cell_type": "code",
      "metadata": {
        "id": "V44QW8PRris1"
      },
      "source": [
        "#Realiza a previsão de classificaçao \n",
        "y_pred = clf.predict(X_test)"
      ],
      "execution_count": null,
      "outputs": []
    },
    {
      "cell_type": "code",
      "metadata": {
        "id": "XjROZ6wrxWuS",
        "colab": {
          "base_uri": "https://localhost:8080/"
        },
        "outputId": "f7a07d42-bd26-451b-81b2-1a2a0b07cbb4"
      },
      "source": [
        "#constroi a matriz de confusão para comparar o modelo criado\n",
        "print(confusion_matrix(y_test, y_pred))\n",
        "print(classification_report(y_test, y_pred))"
      ],
      "execution_count": null,
      "outputs": [
        {
          "output_type": "stream",
          "text": [
            "[[136  15]\n",
            " [ 38  42]]\n",
            "              precision    recall  f1-score   support\n",
            "\n",
            "           0       0.78      0.90      0.84       151\n",
            "           1       0.74      0.53      0.61        80\n",
            "\n",
            "    accuracy                           0.77       231\n",
            "   macro avg       0.76      0.71      0.73       231\n",
            "weighted avg       0.77      0.77      0.76       231\n",
            "\n"
          ],
          "name": "stdout"
        }
      ]
    },
    {
      "cell_type": "code",
      "metadata": {
        "colab": {
          "base_uri": "https://localhost:8080/",
          "height": 279
        },
        "id": "CODH7iLhrjx5",
        "outputId": "224c36a1-aec9-4ef7-8e6b-2364129f78d3"
      },
      "source": [
        "#Avaliando o modelo \n",
        "\n",
        "#realiza o plot da matriz de confusão\n",
        "matriz_confusao = confusion_matrix(y_test, y_pred)\n",
        "from mlxtend.plotting import plot_confusion_matrix\n",
        "\n",
        "fig, ax = plot_confusion_matrix(conf_mat=matriz_confusao)\n",
        "plt.show()"
      ],
      "execution_count": null,
      "outputs": [
        {
          "output_type": "display_data",
          "data": {
            "image/png": "[encoded data removed]",
            "text/plain": [
              "<Figure size 432x288 with 1 Axes>"
            ]
          },
          "metadata": {
            "tags": [],
            "needs_background": "light"
          }
        }
      ]
    }
  ]
}