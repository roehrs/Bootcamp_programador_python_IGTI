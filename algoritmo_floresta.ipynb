{
  "nbformat": 4,
  "nbformat_minor": 0,
  "metadata": {
    "colab": {
      "name": "algoritmo_floresta.ipynb",
      "provenance": [],
      "authorship_tag": "ABX9TyP+VhKbGLJ1lZCExb0VoP2P",
      "include_colab_link": true
    },
    "kernelspec": {
      "name": "python3",
      "display_name": "Python 3"
    },
    "language_info": {
      "name": "python"
    }
  },
  "cells": [
    {
      "cell_type": "markdown",
      "metadata": {
        "id": "view-in-github",
        "colab_type": "text"
      },
      "source": [
        "<a href=\"https://colab.research.google.com/github/roehrs/Bootcamp_programador_python_IGTI/blob/main/algoritmo_floresta.ipynb\" target=\"_parent\"><img src=\"https://colab.research.google.com/assets/colab-badge.svg\" alt=\"Open In Colab\"/></a>"
      ]
    },
    {
      "cell_type": "code",
      "metadata": {
        "id": "ItVJWr2NRKkc"
      },
      "source": [
        "#biblioteca necessária para a construção do SVM\n",
        "import pandas as pd\n",
        "from sklearn.preprocessing import MinMaxScaler # função para normalização do dataset\n",
        "from sklearn.model_selection import train_test_split   # função que realiza a divisão do dataset\n",
        "from sklearn.ensemble import RandomForestClassifier # importa o classificador árvore de decisão\n",
        "from sklearn import metrics #importa as métricas para avaliação\n",
        "from sklearn.metrics import classification_report, confusion_matrix #importação para construção de matrix \n",
        "from mlxtend.plotting import plot_confusion_matrix # importação para plot de matrix confusão\n",
        "import matplotlib.pyplot as plt"
      ],
      "execution_count": null,
      "outputs": []
    },
    {
      "cell_type": "code",
      "metadata": {
        "id": "1_1iL3q7RSeL"
      },
      "source": [
        "#importando csv \n",
        "df_diabetes = pd.read_csv('datasets_diabetes.csv')"
      ],
      "execution_count": null,
      "outputs": []
    },
    {
      "cell_type": "code",
      "metadata": {
        "id": "NvCz9h4dRUfy"
      },
      "source": [
        "#transforma os dados em array\n",
        "entradas = df_diabetes.iloc[:, :-1].values  #dados de entrada\n",
        "saida = df_diabetes.iloc[:, 8].values  # saídas ou target"
      ],
      "execution_count": null,
      "outputs": []
    },
    {
      "cell_type": "code",
      "metadata": {
        "id": "yICKSRFbRWOW"
      },
      "source": [
        "# realiza o processo de normalização dos dados\n",
        "normaliza = MinMaxScaler() #objeto para a normalização\n",
        "entradas_normalizadas=normaliza.fit_transform(entradas)"
      ],
      "execution_count": null,
      "outputs": []
    },
    {
      "cell_type": "code",
      "metadata": {
        "id": "0kAVJk-GRX8_"
      },
      "source": [
        "# realiza a visisão dos dados entre treinamento e teste \n",
        "X_train, X_test, y_train, y_test = train_test_split(entradas_normalizadas, saida, \n",
        "                                                    test_size=0.30,random_state=42)"
      ],
      "execution_count": null,
      "outputs": []
    },
    {
      "cell_type": "code",
      "metadata": {
        "id": "CX-WL3-BRdgX"
      },
      "source": [
        "# Cria o objeto de classificação através do \n",
        "clf =  RandomForestClassifier(max_depth=10, random_state=1)\n",
        "\n",
        "# Realiza o treinamento do classificador\n",
        "clf = clf.fit(X_train,y_train)\n",
        "\n",
        "#Realiza a previsão de classificaçao \n",
        "y_pred = clf.predict(X_test)"
      ],
      "execution_count": null,
      "outputs": []
    },
    {
      "cell_type": "code",
      "metadata": {
        "id": "kZPRXeLTxk0O",
        "colab": {
          "base_uri": "https://localhost:8080/"
        },
        "outputId": "95f6b803-41e7-471e-d190-1e3fc98bed66"
      },
      "source": [
        "#constroi a matriz de confusão para comparar o modelo criado\n",
        "print(confusion_matrix(y_test, y_pred))\n",
        "print(classification_report(y_test, y_pred))"
      ],
      "execution_count": null,
      "outputs": [
        {
          "output_type": "stream",
          "text": [
            "[[121  30]\n",
            " [ 29  51]]\n",
            "              precision    recall  f1-score   support\n",
            "\n",
            "           0       0.81      0.80      0.80       151\n",
            "           1       0.63      0.64      0.63        80\n",
            "\n",
            "    accuracy                           0.74       231\n",
            "   macro avg       0.72      0.72      0.72       231\n",
            "weighted avg       0.75      0.74      0.74       231\n",
            "\n"
          ],
          "name": "stdout"
        }
      ]
    },
    {
      "cell_type": "code",
      "metadata": {
        "colab": {
          "base_uri": "https://localhost:8080/",
          "height": 279
        },
        "id": "wrw3KtgARfKX",
        "outputId": "8edfb2a4-559d-44da-9e62-3a12bd2e32bb"
      },
      "source": [
        "#Avaliando o modelo \n",
        "\n",
        "#realiza o plot da matriz de confusão\n",
        "matriz_confusao = confusion_matrix(y_test, y_pred)\n",
        "\n",
        "\n",
        "fig, ax = plot_confusion_matrix(conf_mat=matriz_confusao)\n",
        "plt.show()"
      ],
      "execution_count": null,
      "outputs": [
        {
          "output_type": "display_data",
          "data": {
            "image/png": "[encoded data removed]",
            "text/plain": [
              "<Figure size 432x288 with 1 Axes>"
            ]
          },
          "metadata": {
            "tags": [],
            "needs_background": "light"
          }
        }
      ]
    }
  ]
}